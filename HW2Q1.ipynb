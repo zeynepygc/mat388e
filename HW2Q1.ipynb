{
 "cells": [
  {
   "cell_type": "code",
   "execution_count": null,
   "metadata": {},
   "outputs": [],
   "source": [
    "import pandas as pd\n",
    "import numpy as np\n",
    "import wbgapi as wb\n",
    "import statsmodels.api as sm\n",
    "import statsmodels.formula.api as smf\n",
    "import matplotlib.pyplot as plt\n"
   ]
  },
  {
   "cell_type": "code",
   "execution_count": 2,
   "metadata": {},
   "outputs": [],
   "source": [
    "mortality = pd.DataFrame(list(wb.data.fetch('SH.DYN.MORT')))\n",
    "literacy = pd.DataFrame(list(wb.data.fetch('SE.ADT.LITR.FE.ZS')))\n",
    "labor = pd.DataFrame(list(wb.data.fetch('SL.TLF.TOTL.FE.ZS')))\n",
    "poverty = pd.DataFrame(list(wb.data.fetch('SI.POV.NAHC')))\n",
    "health = pd.DataFrame(list(wb.data.fetch('SH.XPD.CHEX.PC.CD')))\n",
    "gdp = pd.DataFrame(list(wb.data.fetch('NY.GDP.PCAP.CD')))"
   ]
  },
  {
   "cell_type": "code",
   "execution_count": 3,
   "metadata": {},
   "outputs": [],
   "source": [
    "def extract(df,name):\n",
    "    tmp = df[['time','value']][df['economy']=='TUR']\n",
    "    tmp.index = tmp.time\n",
    "    del tmp['time']\n",
    "    tmp.columns = [[name]]\n",
    "    return tmp"
   ]
  },
  {
   "cell_type": "code",
   "execution_count": 4,
   "metadata": {},
   "outputs": [],
   "source": [
    "mrt = extract(mortality, 'mortality')\n",
    "ltr = extract(literacy, 'literacy')\n",
    "lbr = extract(labor, 'labor')\n",
    "pvr = extract(poverty, 'poverty')\n",
    "hlt = extract(health, 'health')\n",
    "gdpcp = extract(gdp, 'gdp')"
   ]
  },
  {
   "cell_type": "code",
   "execution_count": 5,
   "metadata": {},
   "outputs": [
    {
     "data": {
      "text/html": [
       "<div>\n",
       "<style scoped>\n",
       "    .dataframe tbody tr th:only-of-type {\n",
       "        vertical-align: middle;\n",
       "    }\n",
       "\n",
       "    .dataframe tbody tr th {\n",
       "        vertical-align: top;\n",
       "    }\n",
       "\n",
       "    .dataframe thead tr th {\n",
       "        text-align: left;\n",
       "    }\n",
       "\n",
       "    .dataframe thead tr:last-of-type th {\n",
       "        text-align: right;\n",
       "    }\n",
       "</style>\n",
       "<table border=\"1\" class=\"dataframe\">\n",
       "  <thead>\n",
       "    <tr>\n",
       "      <th></th>\n",
       "      <th>mortality</th>\n",
       "      <th>literacy</th>\n",
       "      <th>labor</th>\n",
       "      <th>poverty</th>\n",
       "      <th>health</th>\n",
       "      <th>gdp</th>\n",
       "    </tr>\n",
       "    <tr>\n",
       "      <th>time</th>\n",
       "      <th></th>\n",
       "      <th></th>\n",
       "      <th></th>\n",
       "      <th></th>\n",
       "      <th></th>\n",
       "      <th></th>\n",
       "    </tr>\n",
       "  </thead>\n",
       "  <tbody>\n",
       "    <tr>\n",
       "      <th>YR2019</th>\n",
       "      <td>10.1</td>\n",
       "      <td>94.424042</td>\n",
       "      <td>33.360649</td>\n",
       "      <td>15.0</td>\n",
       "      <td>396.466827</td>\n",
       "      <td>9121.515167</td>\n",
       "    </tr>\n",
       "    <tr>\n",
       "      <th>YR2017</th>\n",
       "      <td>11.4</td>\n",
       "      <td>93.498268</td>\n",
       "      <td>32.799757</td>\n",
       "      <td>13.9</td>\n",
       "      <td>442.617615</td>\n",
       "      <td>10589.667725</td>\n",
       "    </tr>\n",
       "    <tr>\n",
       "      <th>YR2016</th>\n",
       "      <td>12.1</td>\n",
       "      <td>93.563011</td>\n",
       "      <td>32.250459</td>\n",
       "      <td>13.5</td>\n",
       "      <td>466.794800</td>\n",
       "      <td>10894.603378</td>\n",
       "    </tr>\n",
       "    <tr>\n",
       "      <th>YR2015</th>\n",
       "      <td>13.0</td>\n",
       "      <td>92.645813</td>\n",
       "      <td>31.719798</td>\n",
       "      <td>14.3</td>\n",
       "      <td>453.116486</td>\n",
       "      <td>11006.279524</td>\n",
       "    </tr>\n",
       "    <tr>\n",
       "      <th>YR2014</th>\n",
       "      <td>13.8</td>\n",
       "      <td>92.401817</td>\n",
       "      <td>31.027784</td>\n",
       "      <td>14.7</td>\n",
       "      <td>525.844727</td>\n",
       "      <td>12157.990434</td>\n",
       "    </tr>\n",
       "    <tr>\n",
       "      <th>YR2013</th>\n",
       "      <td>14.7</td>\n",
       "      <td>92.138077</td>\n",
       "      <td>31.199391</td>\n",
       "      <td>15.0</td>\n",
       "      <td>551.401245</td>\n",
       "      <td>12614.781610</td>\n",
       "    </tr>\n",
       "    <tr>\n",
       "      <th>YR2012</th>\n",
       "      <td>15.8</td>\n",
       "      <td>91.604523</td>\n",
       "      <td>30.464131</td>\n",
       "      <td>15.0</td>\n",
       "      <td>524.250305</td>\n",
       "      <td>11795.633457</td>\n",
       "    </tr>\n",
       "    <tr>\n",
       "      <th>YR2011</th>\n",
       "      <td>16.9</td>\n",
       "      <td>90.310097</td>\n",
       "      <td>29.832127</td>\n",
       "      <td>16.3</td>\n",
       "      <td>531.418579</td>\n",
       "      <td>11420.555456</td>\n",
       "    </tr>\n",
       "    <tr>\n",
       "      <th>YR2010</th>\n",
       "      <td>18.1</td>\n",
       "      <td>88.073174</td>\n",
       "      <td>29.161917</td>\n",
       "      <td>16.1</td>\n",
       "      <td>539.327148</td>\n",
       "      <td>10742.774979</td>\n",
       "    </tr>\n",
       "    <tr>\n",
       "      <th>YR2009</th>\n",
       "      <td>19.5</td>\n",
       "      <td>85.347160</td>\n",
       "      <td>28.071295</td>\n",
       "      <td>16.9</td>\n",
       "      <td>500.193054</td>\n",
       "      <td>9103.474051</td>\n",
       "    </tr>\n",
       "    <tr>\n",
       "      <th>YR2007</th>\n",
       "      <td>22.5</td>\n",
       "      <td>81.263832</td>\n",
       "      <td>26.288681</td>\n",
       "      <td>16.7</td>\n",
       "      <td>512.848267</td>\n",
       "      <td>9791.882450</td>\n",
       "    </tr>\n",
       "    <tr>\n",
       "      <th>YR2006</th>\n",
       "      <td>24.3</td>\n",
       "      <td>80.385162</td>\n",
       "      <td>26.205298</td>\n",
       "      <td>16.3</td>\n",
       "      <td>416.928528</td>\n",
       "      <td>8101.856924</td>\n",
       "    </tr>\n",
       "    <tr>\n",
       "      <th>YR2005</th>\n",
       "      <td>26.2</td>\n",
       "      <td>80.548950</td>\n",
       "      <td>25.921956</td>\n",
       "      <td>18.6</td>\n",
       "      <td>364.908051</td>\n",
       "      <td>7456.296101</td>\n",
       "    </tr>\n",
       "  </tbody>\n",
       "</table>\n",
       "</div>"
      ],
      "text/plain": [
       "       mortality   literacy      labor poverty      health           gdp\n",
       "time                                                                    \n",
       "YR2019      10.1  94.424042  33.360649    15.0  396.466827   9121.515167\n",
       "YR2017      11.4  93.498268  32.799757    13.9  442.617615  10589.667725\n",
       "YR2016      12.1  93.563011  32.250459    13.5  466.794800  10894.603378\n",
       "YR2015      13.0  92.645813  31.719798    14.3  453.116486  11006.279524\n",
       "YR2014      13.8  92.401817  31.027784    14.7  525.844727  12157.990434\n",
       "YR2013      14.7  92.138077  31.199391    15.0  551.401245  12614.781610\n",
       "YR2012      15.8  91.604523  30.464131    15.0  524.250305  11795.633457\n",
       "YR2011      16.9  90.310097  29.832127    16.3  531.418579  11420.555456\n",
       "YR2010      18.1  88.073174  29.161917    16.1  539.327148  10742.774979\n",
       "YR2009      19.5  85.347160  28.071295    16.9  500.193054   9103.474051\n",
       "YR2007      22.5  81.263832  26.288681    16.7  512.848267   9791.882450\n",
       "YR2006      24.3  80.385162  26.205298    16.3  416.928528   8101.856924\n",
       "YR2005      26.2  80.548950  25.921956    18.6  364.908051   7456.296101"
      ]
     },
     "execution_count": 5,
     "metadata": {},
     "output_type": "execute_result"
    }
   ],
   "source": [
    "son = mrt.join([ltr,lbr,pvr,hlt,gdpcp])\n",
    "son.dropna(inplace=True)\n",
    "son"
   ]
  },
  {
   "cell_type": "code",
   "execution_count": 6,
   "metadata": {
    "scrolled": true
   },
   "outputs": [
    {
     "name": "stdout",
     "output_type": "stream",
     "text": [
      "                            OLS Regression Results                            \n",
      "==============================================================================\n",
      "Dep. Variable:              mortality   R-squared:                       0.992\n",
      "Model:                            OLS   Adj. R-squared:                  0.986\n",
      "Method:                 Least Squares   F-statistic:                     169.6\n",
      "Date:                Mon, 07 Nov 2022   Prob (F-statistic):           3.81e-07\n",
      "Time:                        13:45:44   Log-Likelihood:                -7.8492\n",
      "No. Observations:                  13   AIC:                             27.70\n",
      "Df Residuals:                       7   BIC:                             31.09\n",
      "Df Model:                           5                                         \n",
      "Covariance Type:            nonrobust                                         \n",
      "==============================================================================\n",
      "                 coef    std err          t      P>|t|      [0.025      0.975]\n",
      "------------------------------------------------------------------------------\n",
      "Intercept     69.8438      9.987      6.994      0.000      46.229      93.458\n",
      "literacy       0.0222      0.372      0.060      0.954      -0.858       0.902\n",
      "labor         -2.0005      0.746     -2.683      0.031      -3.764      -0.237\n",
      "poverty        0.4324      0.319      1.355      0.218      -0.322       1.187\n",
      "health        -0.0185      0.007     -2.597      0.036      -0.035      -0.002\n",
      "gdp            0.0007      0.000      1.455      0.189      -0.000       0.002\n",
      "==============================================================================\n",
      "Omnibus:                        1.712   Durbin-Watson:                   2.158\n",
      "Prob(Omnibus):                  0.425   Jarque-Bera (JB):                1.117\n",
      "Skew:                          -0.455   Prob(JB):                        0.572\n",
      "Kurtosis:                       1.890   Cond. No.                     6.27e+05\n",
      "==============================================================================\n",
      "\n",
      "Notes:\n",
      "[1] Standard Errors assume that the covariance matrix of the errors is correctly specified.\n",
      "[2] The condition number is large, 6.27e+05. This might indicate that there are\n",
      "strong multicollinearity or other numerical problems.\n"
     ]
    },
    {
     "name": "stderr",
     "output_type": "stream",
     "text": [
      "C:\\Users\\DELL XPS\\anaconda3\\lib\\site-packages\\scipy\\stats\\stats.py:1603: UserWarning: kurtosistest only valid for n>=20 ... continuing anyway, n=13\n",
      "  warnings.warn(\"kurtosistest only valid for n>=20 ... continuing \"\n"
     ]
    }
   ],
   "source": [
    "res = smf.ols(formula='mortality ~ literacy + labor + poverty + health + gdp', data=son).fit()\n",
    "print(res.summary())"
   ]
  },
  {
   "cell_type": "markdown",
   "metadata": {},
   "source": [
    "R-squared value for this model is 0.992, very close to 1, which means linear regression function line fits the data well. We are able to explain 99.2% of the data, so it's not a bad model at all. However, we notice that P value for literacy variable is 0.954. Which means that we can not conclude a relationship between Literacy and Mortality. To check it, lets create a new model without Literacy variable."
   ]
  },
  {
   "cell_type": "code",
   "execution_count": 7,
   "metadata": {
    "scrolled": true
   },
   "outputs": [
    {
     "data": {
      "text/html": [
       "<div>\n",
       "<style scoped>\n",
       "    .dataframe tbody tr th:only-of-type {\n",
       "        vertical-align: middle;\n",
       "    }\n",
       "\n",
       "    .dataframe tbody tr th {\n",
       "        vertical-align: top;\n",
       "    }\n",
       "\n",
       "    .dataframe thead th {\n",
       "        text-align: right;\n",
       "    }\n",
       "</style>\n",
       "<table border=\"1\" class=\"dataframe\">\n",
       "  <thead>\n",
       "    <tr style=\"text-align: right;\">\n",
       "      <th></th>\n",
       "      <th>df</th>\n",
       "      <th>sum_sq</th>\n",
       "      <th>mean_sq</th>\n",
       "      <th>F</th>\n",
       "      <th>PR(&gt;F)</th>\n",
       "    </tr>\n",
       "  </thead>\n",
       "  <tbody>\n",
       "    <tr>\n",
       "      <th>literacy</th>\n",
       "      <td>1.0</td>\n",
       "      <td>296.579278</td>\n",
       "      <td>296.579278</td>\n",
       "      <td>815.327082</td>\n",
       "      <td>1.661736e-08</td>\n",
       "    </tr>\n",
       "    <tr>\n",
       "      <th>labor</th>\n",
       "      <td>1.0</td>\n",
       "      <td>8.414644</td>\n",
       "      <td>8.414644</td>\n",
       "      <td>23.132725</td>\n",
       "      <td>1.944516e-03</td>\n",
       "    </tr>\n",
       "    <tr>\n",
       "      <th>poverty</th>\n",
       "      <td>1.0</td>\n",
       "      <td>0.940111</td>\n",
       "      <td>0.940111</td>\n",
       "      <td>2.584462</td>\n",
       "      <td>1.519524e-01</td>\n",
       "    </tr>\n",
       "    <tr>\n",
       "      <th>health</th>\n",
       "      <td>1.0</td>\n",
       "      <td>1.829951</td>\n",
       "      <td>1.829951</td>\n",
       "      <td>5.030724</td>\n",
       "      <td>5.981897e-02</td>\n",
       "    </tr>\n",
       "    <tr>\n",
       "      <th>gdp</th>\n",
       "      <td>1.0</td>\n",
       "      <td>0.769732</td>\n",
       "      <td>0.769732</td>\n",
       "      <td>2.116072</td>\n",
       "      <td>1.890863e-01</td>\n",
       "    </tr>\n",
       "    <tr>\n",
       "      <th>Residual</th>\n",
       "      <td>7.0</td>\n",
       "      <td>2.546285</td>\n",
       "      <td>0.363755</td>\n",
       "      <td>NaN</td>\n",
       "      <td>NaN</td>\n",
       "    </tr>\n",
       "  </tbody>\n",
       "</table>\n",
       "</div>"
      ],
      "text/plain": [
       "           df      sum_sq     mean_sq           F        PR(>F)\n",
       "literacy  1.0  296.579278  296.579278  815.327082  1.661736e-08\n",
       "labor     1.0    8.414644    8.414644   23.132725  1.944516e-03\n",
       "poverty   1.0    0.940111    0.940111    2.584462  1.519524e-01\n",
       "health    1.0    1.829951    1.829951    5.030724  5.981897e-02\n",
       "gdp       1.0    0.769732    0.769732    2.116072  1.890863e-01\n",
       "Residual  7.0    2.546285    0.363755         NaN           NaN"
      ]
     },
     "execution_count": 7,
     "metadata": {},
     "output_type": "execute_result"
    }
   ],
   "source": [
    "sm.stats.anova_lm(res)"
   ]
  },
  {
   "cell_type": "code",
   "execution_count": null,
   "metadata": {},
   "outputs": [],
   "source": []
  },
  {
   "cell_type": "code",
   "execution_count": 16,
   "metadata": {
    "scrolled": true
   },
   "outputs": [
    {
     "name": "stdout",
     "output_type": "stream",
     "text": [
      "                            OLS Regression Results                            \n",
      "==============================================================================\n",
      "Dep. Variable:              mortality   R-squared:                       0.992\n",
      "Model:                            OLS   Adj. R-squared:                  0.988\n",
      "Method:                 Least Squares   F-statistic:                     242.2\n",
      "Date:                Mon, 07 Nov 2022   Prob (F-statistic):           2.23e-08\n",
      "Time:                        14:07:21   Log-Likelihood:                -7.8525\n",
      "No. Observations:                  13   AIC:                             25.70\n",
      "Df Residuals:                       8   BIC:                             28.53\n",
      "Df Model:                           4                                         \n",
      "Covariance Type:            nonrobust                                         \n",
      "==============================================================================\n",
      "                 coef    std err          t      P>|t|      [0.025      0.975]\n",
      "------------------------------------------------------------------------------\n",
      "Intercept     70.1838      7.670      9.151      0.000      52.497      87.870\n",
      "labor         -1.9570      0.146    -13.445      0.000      -2.293      -1.621\n",
      "poverty        0.4428      0.249      1.777      0.113      -0.132       1.017\n",
      "health        -0.0185      0.007     -2.783      0.024      -0.034      -0.003\n",
      "gdp            0.0007      0.000      2.092      0.070   -6.96e-05       0.001\n",
      "==============================================================================\n",
      "Omnibus:                        1.741   Durbin-Watson:                   2.147\n",
      "Prob(Omnibus):                  0.419   Jarque-Bera (JB):                1.157\n",
      "Skew:                          -0.484   Prob(JB):                        0.561\n",
      "Kurtosis:                       1.905   Cond. No.                     5.14e+05\n",
      "==============================================================================\n",
      "\n",
      "Notes:\n",
      "[1] Standard Errors assume that the covariance matrix of the errors is correctly specified.\n",
      "[2] The condition number is large, 5.14e+05. This might indicate that there are\n",
      "strong multicollinearity or other numerical problems.\n"
     ]
    },
    {
     "name": "stderr",
     "output_type": "stream",
     "text": [
      "C:\\Users\\DELL XPS\\anaconda3\\lib\\site-packages\\scipy\\stats\\stats.py:1603: UserWarning: kurtosistest only valid for n>=20 ... continuing anyway, n=13\n",
      "  warnings.warn(\"kurtosistest only valid for n>=20 ... continuing \"\n"
     ]
    }
   ],
   "source": [
    "res = smf.ols(formula='mortality ~ labor + poverty + health + gdp', data=son).fit()\n",
    "print(res.summary())"
   ]
  },
  {
   "cell_type": "markdown",
   "metadata": {},
   "source": [
    "Here, we notice something : Adj. R-squared value increased (compared to the 1st model). When we have more than one explanatory variable, it is actually better to look at that value, rather than R-squared. So, it means this model is better. We can also see it when we check P-values for the variables."
   ]
  },
  {
   "cell_type": "code",
   "execution_count": 17,
   "metadata": {},
   "outputs": [
    {
     "name": "stdout",
     "output_type": "stream",
     "text": [
      "                            OLS Regression Results                            \n",
      "==============================================================================\n",
      "Dep. Variable:              mortality   R-squared:                       0.984\n",
      "Model:                            OLS   Adj. R-squared:                  0.976\n",
      "Method:                 Least Squares   F-statistic:                     122.4\n",
      "Date:                Mon, 07 Nov 2022   Prob (F-statistic):           3.29e-07\n",
      "Time:                        14:11:00   Log-Likelihood:                -12.235\n",
      "No. Observations:                  13   AIC:                             34.47\n",
      "Df Residuals:                       8   BIC:                             37.29\n",
      "Df Model:                           4                                         \n",
      "Covariance Type:            nonrobust                                         \n",
      "==============================================================================\n",
      "                 coef    std err          t      P>|t|      [0.025      0.975]\n",
      "------------------------------------------------------------------------------\n",
      "Intercept     64.9877     12.858      5.054      0.001      35.337      94.638\n",
      "literacy       0.0766      0.487      0.157      0.879      -1.046       1.199\n",
      "labor         -1.9164      0.977     -1.963      0.085      -4.168       0.335\n",
      "poverty        0.2761      0.411      0.672      0.520      -0.671       1.223\n",
      "gdp           -0.0002      0.000     -0.484      0.641      -0.001       0.001\n",
      "==============================================================================\n",
      "Omnibus:                        0.221   Durbin-Watson:                   1.321\n",
      "Prob(Omnibus):                  0.895   Jarque-Bera (JB):                0.390\n",
      "Skew:                          -0.198   Prob(JB):                        0.823\n",
      "Kurtosis:                       2.250   Cond. No.                     6.15e+05\n",
      "==============================================================================\n",
      "\n",
      "Notes:\n",
      "[1] Standard Errors assume that the covariance matrix of the errors is correctly specified.\n",
      "[2] The condition number is large, 6.15e+05. This might indicate that there are\n",
      "strong multicollinearity or other numerical problems.\n"
     ]
    },
    {
     "name": "stderr",
     "output_type": "stream",
     "text": [
      "C:\\Users\\DELL XPS\\anaconda3\\lib\\site-packages\\scipy\\stats\\stats.py:1603: UserWarning: kurtosistest only valid for n>=20 ... continuing anyway, n=13\n",
      "  warnings.warn(\"kurtosistest only valid for n>=20 ... continuing \"\n"
     ]
    }
   ],
   "source": [
    "res1 = smf.ols(formula='mortality ~ literacy + labor + poverty + gdp', data=son).fit()\n",
    "print(res1.summary())"
   ]
  },
  {
   "cell_type": "code",
   "execution_count": 19,
   "metadata": {},
   "outputs": [
    {
     "name": "stdout",
     "output_type": "stream",
     "text": [
      "                            OLS Regression Results                            \n",
      "==============================================================================\n",
      "Dep. Variable:              mortality   R-squared:                       0.992\n",
      "Model:                            OLS   Adj. R-squared:                  0.988\n",
      "Method:                 Least Squares   F-statistic:                     242.2\n",
      "Date:                Mon, 07 Nov 2022   Prob (F-statistic):           2.23e-08\n",
      "Time:                        14:11:58   Log-Likelihood:                -7.8525\n",
      "No. Observations:                  13   AIC:                             25.70\n",
      "Df Residuals:                       8   BIC:                             28.53\n",
      "Df Model:                           4                                         \n",
      "Covariance Type:            nonrobust                                         \n",
      "==============================================================================\n",
      "                 coef    std err          t      P>|t|      [0.025      0.975]\n",
      "------------------------------------------------------------------------------\n",
      "Intercept     70.1838      7.670      9.151      0.000      52.497      87.870\n",
      "labor         -1.9570      0.146    -13.445      0.000      -2.293      -1.621\n",
      "poverty        0.4428      0.249      1.777      0.113      -0.132       1.017\n",
      "health        -0.0185      0.007     -2.783      0.024      -0.034      -0.003\n",
      "gdp            0.0007      0.000      2.092      0.070   -6.96e-05       0.001\n",
      "==============================================================================\n",
      "Omnibus:                        1.741   Durbin-Watson:                   2.147\n",
      "Prob(Omnibus):                  0.419   Jarque-Bera (JB):                1.157\n",
      "Skew:                          -0.484   Prob(JB):                        0.561\n",
      "Kurtosis:                       1.905   Cond. No.                     5.14e+05\n",
      "==============================================================================\n",
      "\n",
      "Notes:\n",
      "[1] Standard Errors assume that the covariance matrix of the errors is correctly specified.\n",
      "[2] The condition number is large, 5.14e+05. This might indicate that there are\n",
      "strong multicollinearity or other numerical problems.\n"
     ]
    },
    {
     "name": "stderr",
     "output_type": "stream",
     "text": [
      "C:\\Users\\DELL XPS\\anaconda3\\lib\\site-packages\\scipy\\stats\\stats.py:1603: UserWarning: kurtosistest only valid for n>=20 ... continuing anyway, n=13\n",
      "  warnings.warn(\"kurtosistest only valid for n>=20 ... continuing \"\n"
     ]
    }
   ],
   "source": [
    "res2 = smf.ols(formula='mortality ~ literacy + poverty + gdp', data=son).fit()\n",
    "print(res.summary())"
   ]
  },
  {
   "cell_type": "code",
   "execution_count": 10,
   "metadata": {},
   "outputs": [
    {
     "name": "stdout",
     "output_type": "stream",
     "text": [
      "                            OLS Regression Results                            \n",
      "==============================================================================\n",
      "Dep. Variable:              mortality   R-squared:                       0.992\n",
      "Model:                            OLS   Adj. R-squared:                  0.986\n",
      "Method:                 Least Squares   F-statistic:                     169.6\n",
      "Date:                Mon, 07 Nov 2022   Prob (F-statistic):           3.81e-07\n",
      "Time:                        13:46:14   Log-Likelihood:                -7.8492\n",
      "No. Observations:                  13   AIC:                             27.70\n",
      "Df Residuals:                       7   BIC:                             31.09\n",
      "Df Model:                           5                                         \n",
      "Covariance Type:            nonrobust                                         \n",
      "==============================================================================\n",
      "                 coef    std err          t      P>|t|      [0.025      0.975]\n",
      "------------------------------------------------------------------------------\n",
      "Intercept     69.8438      9.987      6.994      0.000      46.229      93.458\n",
      "literacy       0.0222      0.372      0.060      0.954      -0.858       0.902\n",
      "labor         -2.0005      0.746     -2.683      0.031      -3.764      -0.237\n",
      "poverty        0.4324      0.319      1.355      0.218      -0.322       1.187\n",
      "health        -0.0185      0.007     -2.597      0.036      -0.035      -0.002\n",
      "gdp            0.0007      0.000      1.455      0.189      -0.000       0.002\n",
      "==============================================================================\n",
      "Omnibus:                        1.712   Durbin-Watson:                   2.158\n",
      "Prob(Omnibus):                  0.425   Jarque-Bera (JB):                1.117\n",
      "Skew:                          -0.455   Prob(JB):                        0.572\n",
      "Kurtosis:                       1.890   Cond. No.                     6.27e+05\n",
      "==============================================================================\n",
      "\n",
      "Notes:\n",
      "[1] Standard Errors assume that the covariance matrix of the errors is correctly specified.\n",
      "[2] The condition number is large, 6.27e+05. This might indicate that there are\n",
      "strong multicollinearity or other numerical problems.\n"
     ]
    },
    {
     "name": "stderr",
     "output_type": "stream",
     "text": [
      "C:\\Users\\DELL XPS\\anaconda3\\lib\\site-packages\\scipy\\stats\\stats.py:1603: UserWarning: kurtosistest only valid for n>=20 ... continuing anyway, n=13\n",
      "  warnings.warn(\"kurtosistest only valid for n>=20 ... continuing \"\n"
     ]
    }
   ],
   "source": [
    "res2 = smf.ols(formula='mortality ~ gdp', data=son).fit()\n",
    "print(res.summary())"
   ]
  },
  {
   "cell_type": "code",
   "execution_count": 11,
   "metadata": {},
   "outputs": [
    {
     "name": "stdout",
     "output_type": "stream",
     "text": [
      "                            OLS Regression Results                            \n",
      "==============================================================================\n",
      "Dep. Variable:              mortality   R-squared:                       0.983\n",
      "Model:                            OLS   Adj. R-squared:                  0.977\n",
      "Method:                 Least Squares   F-statistic:                     173.7\n",
      "Date:                Mon, 07 Nov 2022   Prob (F-statistic):           2.78e-08\n",
      "Time:                        13:46:20   Log-Likelihood:                -12.592\n",
      "No. Observations:                  13   AIC:                             33.18\n",
      "Df Residuals:                       9   BIC:                             35.44\n",
      "Df Model:                           3                                         \n",
      "Covariance Type:            nonrobust                                         \n",
      "==============================================================================\n",
      "                 coef    std err          t      P>|t|      [0.025      0.975]\n",
      "------------------------------------------------------------------------------\n",
      "Intercept     67.9910     11.684      5.819      0.000      41.560      94.422\n",
      "gdp           -0.0004      0.000     -1.171      0.272      -0.001       0.000\n",
      "literacy       0.2570      0.394      0.653      0.530      -0.634       1.148\n",
      "labor         -2.3515      0.709     -3.318      0.009      -3.955      -0.748\n",
      "==============================================================================\n",
      "Omnibus:                        0.177   Durbin-Watson:                   1.420\n",
      "Prob(Omnibus):                  0.915   Jarque-Bera (JB):                0.180\n",
      "Skew:                           0.189   Prob(JB):                        0.914\n",
      "Kurtosis:                       2.564   Cond. No.                     5.77e+05\n",
      "==============================================================================\n",
      "\n",
      "Notes:\n",
      "[1] Standard Errors assume that the covariance matrix of the errors is correctly specified.\n",
      "[2] The condition number is large, 5.77e+05. This might indicate that there are\n",
      "strong multicollinearity or other numerical problems.\n"
     ]
    },
    {
     "name": "stderr",
     "output_type": "stream",
     "text": [
      "C:\\Users\\DELL XPS\\anaconda3\\lib\\site-packages\\scipy\\stats\\stats.py:1603: UserWarning: kurtosistest only valid for n>=20 ... continuing anyway, n=13\n",
      "  warnings.warn(\"kurtosistest only valid for n>=20 ... continuing \"\n"
     ]
    }
   ],
   "source": [
    "res1 = smf.ols(formula='mortality ~ gdp + literacy + labor', data=son).fit()\n",
    "print(res1.summary())"
   ]
  },
  {
   "cell_type": "code",
   "execution_count": 12,
   "metadata": {},
   "outputs": [
    {
     "data": {
      "text/html": [
       "<div>\n",
       "<style scoped>\n",
       "    .dataframe tbody tr th:only-of-type {\n",
       "        vertical-align: middle;\n",
       "    }\n",
       "\n",
       "    .dataframe tbody tr th {\n",
       "        vertical-align: top;\n",
       "    }\n",
       "\n",
       "    .dataframe thead th {\n",
       "        text-align: right;\n",
       "    }\n",
       "</style>\n",
       "<table border=\"1\" class=\"dataframe\">\n",
       "  <thead>\n",
       "    <tr style=\"text-align: right;\">\n",
       "      <th></th>\n",
       "      <th>df</th>\n",
       "      <th>sum_sq</th>\n",
       "      <th>mean_sq</th>\n",
       "      <th>F</th>\n",
       "      <th>PR(&gt;F)</th>\n",
       "    </tr>\n",
       "  </thead>\n",
       "  <tbody>\n",
       "    <tr>\n",
       "      <th>gdp</th>\n",
       "      <td>1.0</td>\n",
       "      <td>121.486101</td>\n",
       "      <td>121.486101</td>\n",
       "      <td>207.008959</td>\n",
       "      <td>1.619147e-07</td>\n",
       "    </tr>\n",
       "    <tr>\n",
       "      <th>literacy</th>\n",
       "      <td>1.0</td>\n",
       "      <td>177.850062</td>\n",
       "      <td>177.850062</td>\n",
       "      <td>303.051592</td>\n",
       "      <td>3.076386e-08</td>\n",
       "    </tr>\n",
       "    <tr>\n",
       "      <th>labor</th>\n",
       "      <td>1.0</td>\n",
       "      <td>6.462062</td>\n",
       "      <td>6.462062</td>\n",
       "      <td>11.011174</td>\n",
       "      <td>8.964433e-03</td>\n",
       "    </tr>\n",
       "    <tr>\n",
       "      <th>Residual</th>\n",
       "      <td>9.0</td>\n",
       "      <td>5.281776</td>\n",
       "      <td>0.586864</td>\n",
       "      <td>NaN</td>\n",
       "      <td>NaN</td>\n",
       "    </tr>\n",
       "  </tbody>\n",
       "</table>\n",
       "</div>"
      ],
      "text/plain": [
       "           df      sum_sq     mean_sq           F        PR(>F)\n",
       "gdp       1.0  121.486101  121.486101  207.008959  1.619147e-07\n",
       "literacy  1.0  177.850062  177.850062  303.051592  3.076386e-08\n",
       "labor     1.0    6.462062    6.462062   11.011174  8.964433e-03\n",
       "Residual  9.0    5.281776    0.586864         NaN           NaN"
      ]
     },
     "execution_count": 12,
     "metadata": {},
     "output_type": "execute_result"
    }
   ],
   "source": [
    "sm.stats.anova_lm(res1)"
   ]
  },
  {
   "cell_type": "code",
   "execution_count": 14,
   "metadata": {},
   "outputs": [
    {
     "name": "stdout",
     "output_type": "stream",
     "text": [
      "                            OLS Regression Results                            \n",
      "==============================================================================\n",
      "Dep. Variable:              mortality   R-squared:                       0.992\n",
      "Model:                            OLS   Adj. R-squared:                  0.988\n",
      "Method:                 Least Squares   F-statistic:                     242.2\n",
      "Date:                Mon, 07 Nov 2022   Prob (F-statistic):           2.23e-08\n",
      "Time:                        13:55:07   Log-Likelihood:                -7.8525\n",
      "No. Observations:                  13   AIC:                             25.70\n",
      "Df Residuals:                       8   BIC:                             28.53\n",
      "Df Model:                           4                                         \n",
      "Covariance Type:            nonrobust                                         \n",
      "==============================================================================\n",
      "                 coef    std err          t      P>|t|      [0.025      0.975]\n",
      "------------------------------------------------------------------------------\n",
      "Intercept     70.1838      7.670      9.151      0.000      52.497      87.870\n",
      "labor         -1.9570      0.146    -13.445      0.000      -2.293      -1.621\n",
      "poverty        0.4428      0.249      1.777      0.113      -0.132       1.017\n",
      "health        -0.0185      0.007     -2.783      0.024      -0.034      -0.003\n",
      "gdp            0.0007      0.000      2.092      0.070   -6.96e-05       0.001\n",
      "==============================================================================\n",
      "Omnibus:                        1.741   Durbin-Watson:                   2.147\n",
      "Prob(Omnibus):                  0.419   Jarque-Bera (JB):                1.157\n",
      "Skew:                          -0.484   Prob(JB):                        0.561\n",
      "Kurtosis:                       1.905   Cond. No.                     5.14e+05\n",
      "==============================================================================\n",
      "\n",
      "Notes:\n",
      "[1] Standard Errors assume that the covariance matrix of the errors is correctly specified.\n",
      "[2] The condition number is large, 5.14e+05. This might indicate that there are\n",
      "strong multicollinearity or other numerical problems.\n"
     ]
    },
    {
     "name": "stderr",
     "output_type": "stream",
     "text": [
      "C:\\Users\\DELL XPS\\anaconda3\\lib\\site-packages\\scipy\\stats\\stats.py:1603: UserWarning: kurtosistest only valid for n>=20 ... continuing anyway, n=13\n",
      "  warnings.warn(\"kurtosistest only valid for n>=20 ... continuing \"\n"
     ]
    }
   ],
   "source": [
    "res = smf.ols(formula='mortality ~ labor + poverty + health + gdp', data=son).fit()\n",
    "print(res.summary())"
   ]
  },
  {
   "cell_type": "markdown",
   "metadata": {},
   "source": [
    "These other models didn't produce better results."
   ]
  },
  {
   "cell_type": "code",
   "execution_count": null,
   "metadata": {},
   "outputs": [],
   "source": []
  }
 ],
 "metadata": {
  "kernelspec": {
   "display_name": "Python 3",
   "language": "python",
   "name": "python3"
  },
  "language_info": {
   "codemirror_mode": {
    "name": "ipython",
    "version": 3
   },
   "file_extension": ".py",
   "mimetype": "text/x-python",
   "name": "python",
   "nbconvert_exporter": "python",
   "pygments_lexer": "ipython3",
   "version": "3.8.3"
  }
 },
 "nbformat": 4,
 "nbformat_minor": 4
}

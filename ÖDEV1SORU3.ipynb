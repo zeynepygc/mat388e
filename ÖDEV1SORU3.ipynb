{
 "cells": [
  {
   "cell_type": "code",
   "execution_count": 4,
   "metadata": {},
   "outputs": [],
   "source": [
    "import yfinance as yf\n",
    "import numpy as np\n",
    "import pandas as pd\n",
    "import matplotlib.pyplot as plt\n",
    "from pandas_datareader import data as wb"
   ]
  },
  {
   "cell_type": "code",
   "execution_count": 5,
   "metadata": {},
   "outputs": [],
   "source": [
    "apple = yf.Ticker(\"AAPL\")\n",
    "msft = yf.Ticker(\"MSFT\")\n",
    "ndx = yf.Ticker(\"NDX\")\n",
    "cmp = [apple, msft, ndx]\n",
    "\n",
    "def logreturn(comp_name):\n",
    "    xs = comp_name.history(start = '2000-01-01')\n",
    "    xs['log_Return'] = np.log(xs.Close) - np.log(xs.Close.shift(1))\n",
    "    return xs['log_Return']"
   ]
  },
  {
   "cell_type": "code",
   "execution_count": 6,
   "metadata": {},
   "outputs": [
    {
     "data": {
      "text/html": [
       "<div>\n",
       "<style scoped>\n",
       "    .dataframe tbody tr th:only-of-type {\n",
       "        vertical-align: middle;\n",
       "    }\n",
       "\n",
       "    .dataframe tbody tr th {\n",
       "        vertical-align: top;\n",
       "    }\n",
       "\n",
       "    .dataframe thead th {\n",
       "        text-align: right;\n",
       "    }\n",
       "</style>\n",
       "<table border=\"1\" class=\"dataframe\">\n",
       "  <thead>\n",
       "    <tr style=\"text-align: right;\">\n",
       "      <th></th>\n",
       "      <th>log_Return</th>\n",
       "      <th>log_Return</th>\n",
       "      <th>log_Return</th>\n",
       "    </tr>\n",
       "    <tr>\n",
       "      <th>Date</th>\n",
       "      <th></th>\n",
       "      <th></th>\n",
       "      <th></th>\n",
       "    </tr>\n",
       "  </thead>\n",
       "  <tbody>\n",
       "    <tr>\n",
       "      <th>2000-01-03 00:00:00-05:00</th>\n",
       "      <td>NaN</td>\n",
       "      <td>NaN</td>\n",
       "      <td>NaN</td>\n",
       "    </tr>\n",
       "    <tr>\n",
       "      <th>2000-01-04 00:00:00-05:00</th>\n",
       "      <td>-0.088077</td>\n",
       "      <td>-0.034364</td>\n",
       "      <td>-0.066635</td>\n",
       "    </tr>\n",
       "    <tr>\n",
       "      <th>2000-01-05 00:00:00-05:00</th>\n",
       "      <td>0.014527</td>\n",
       "      <td>0.010489</td>\n",
       "      <td>-0.011027</td>\n",
       "    </tr>\n",
       "    <tr>\n",
       "      <th>2000-01-06 00:00:00-05:00</th>\n",
       "      <td>-0.090514</td>\n",
       "      <td>-0.034072</td>\n",
       "      <td>-0.048636</td>\n",
       "    </tr>\n",
       "    <tr>\n",
       "      <th>2000-01-07 00:00:00-05:00</th>\n",
       "      <td>0.046281</td>\n",
       "      <td>0.012983</td>\n",
       "      <td>0.054971</td>\n",
       "    </tr>\n",
       "    <tr>\n",
       "      <th>...</th>\n",
       "      <td>...</td>\n",
       "      <td>...</td>\n",
       "      <td>...</td>\n",
       "    </tr>\n",
       "    <tr>\n",
       "      <th>2022-10-04 00:00:00-04:00</th>\n",
       "      <td>0.025300</td>\n",
       "      <td>0.033253</td>\n",
       "      <td>0.030934</td>\n",
       "    </tr>\n",
       "    <tr>\n",
       "      <th>2022-10-05 00:00:00-04:00</th>\n",
       "      <td>0.002051</td>\n",
       "      <td>0.001285</td>\n",
       "      <td>-0.000808</td>\n",
       "    </tr>\n",
       "    <tr>\n",
       "      <th>2022-10-06 00:00:00-04:00</th>\n",
       "      <td>-0.006648</td>\n",
       "      <td>-0.009718</td>\n",
       "      <td>-0.007605</td>\n",
       "    </tr>\n",
       "    <tr>\n",
       "      <th>2022-10-07 00:00:00-04:00</th>\n",
       "      <td>-0.037410</td>\n",
       "      <td>-0.052191</td>\n",
       "      <td>-0.039608</td>\n",
       "    </tr>\n",
       "    <tr>\n",
       "      <th>2022-10-10 00:00:00-04:00</th>\n",
       "      <td>0.005347</td>\n",
       "      <td>-0.020269</td>\n",
       "      <td>NaN</td>\n",
       "    </tr>\n",
       "  </tbody>\n",
       "</table>\n",
       "<p>5730 rows × 3 columns</p>\n",
       "</div>"
      ],
      "text/plain": [
       "                           log_Return  log_Return  log_Return\n",
       "Date                                                         \n",
       "2000-01-03 00:00:00-05:00         NaN         NaN         NaN\n",
       "2000-01-04 00:00:00-05:00   -0.088077   -0.034364   -0.066635\n",
       "2000-01-05 00:00:00-05:00    0.014527    0.010489   -0.011027\n",
       "2000-01-06 00:00:00-05:00   -0.090514   -0.034072   -0.048636\n",
       "2000-01-07 00:00:00-05:00    0.046281    0.012983    0.054971\n",
       "...                               ...         ...         ...\n",
       "2022-10-04 00:00:00-04:00    0.025300    0.033253    0.030934\n",
       "2022-10-05 00:00:00-04:00    0.002051    0.001285   -0.000808\n",
       "2022-10-06 00:00:00-04:00   -0.006648   -0.009718   -0.007605\n",
       "2022-10-07 00:00:00-04:00   -0.037410   -0.052191   -0.039608\n",
       "2022-10-10 00:00:00-04:00    0.005347   -0.020269         NaN\n",
       "\n",
       "[5730 rows x 3 columns]"
      ]
     },
     "execution_count": 6,
     "metadata": {},
     "output_type": "execute_result"
    }
   ],
   "source": [
    "for i in cmp :\n",
    "    if i == apple :\n",
    "        result = pd.DataFrame(logreturn(i))\n",
    "    else :\n",
    "        df2 = pd.DataFrame(logreturn(i))\n",
    "        result = pd.concat([result,df2], axis=1)\n",
    "result"
   ]
  },
  {
   "cell_type": "code",
   "execution_count": 7,
   "metadata": {},
   "outputs": [
    {
     "data": {
      "text/html": [
       "<div>\n",
       "<style scoped>\n",
       "    .dataframe tbody tr th:only-of-type {\n",
       "        vertical-align: middle;\n",
       "    }\n",
       "\n",
       "    .dataframe tbody tr th {\n",
       "        vertical-align: top;\n",
       "    }\n",
       "\n",
       "    .dataframe thead th {\n",
       "        text-align: right;\n",
       "    }\n",
       "</style>\n",
       "<table border=\"1\" class=\"dataframe\">\n",
       "  <thead>\n",
       "    <tr style=\"text-align: right;\">\n",
       "      <th></th>\n",
       "      <th>appl_lr</th>\n",
       "      <th>msft_lr</th>\n",
       "      <th>ndx_lr</th>\n",
       "    </tr>\n",
       "    <tr>\n",
       "      <th>Date</th>\n",
       "      <th></th>\n",
       "      <th></th>\n",
       "      <th></th>\n",
       "    </tr>\n",
       "  </thead>\n",
       "  <tbody>\n",
       "    <tr>\n",
       "      <th>2000-01-03 00:00:00-05:00</th>\n",
       "      <td>NaN</td>\n",
       "      <td>NaN</td>\n",
       "      <td>NaN</td>\n",
       "    </tr>\n",
       "    <tr>\n",
       "      <th>2000-01-04 00:00:00-05:00</th>\n",
       "      <td>-0.088077</td>\n",
       "      <td>-0.034364</td>\n",
       "      <td>-0.066635</td>\n",
       "    </tr>\n",
       "    <tr>\n",
       "      <th>2000-01-05 00:00:00-05:00</th>\n",
       "      <td>0.014527</td>\n",
       "      <td>0.010489</td>\n",
       "      <td>-0.011027</td>\n",
       "    </tr>\n",
       "    <tr>\n",
       "      <th>2000-01-06 00:00:00-05:00</th>\n",
       "      <td>-0.090514</td>\n",
       "      <td>-0.034072</td>\n",
       "      <td>-0.048636</td>\n",
       "    </tr>\n",
       "    <tr>\n",
       "      <th>2000-01-07 00:00:00-05:00</th>\n",
       "      <td>0.046281</td>\n",
       "      <td>0.012983</td>\n",
       "      <td>0.054971</td>\n",
       "    </tr>\n",
       "    <tr>\n",
       "      <th>...</th>\n",
       "      <td>...</td>\n",
       "      <td>...</td>\n",
       "      <td>...</td>\n",
       "    </tr>\n",
       "    <tr>\n",
       "      <th>2022-10-04 00:00:00-04:00</th>\n",
       "      <td>0.025300</td>\n",
       "      <td>0.033253</td>\n",
       "      <td>0.030934</td>\n",
       "    </tr>\n",
       "    <tr>\n",
       "      <th>2022-10-05 00:00:00-04:00</th>\n",
       "      <td>0.002051</td>\n",
       "      <td>0.001285</td>\n",
       "      <td>-0.000808</td>\n",
       "    </tr>\n",
       "    <tr>\n",
       "      <th>2022-10-06 00:00:00-04:00</th>\n",
       "      <td>-0.006648</td>\n",
       "      <td>-0.009718</td>\n",
       "      <td>-0.007605</td>\n",
       "    </tr>\n",
       "    <tr>\n",
       "      <th>2022-10-07 00:00:00-04:00</th>\n",
       "      <td>-0.037410</td>\n",
       "      <td>-0.052191</td>\n",
       "      <td>-0.039608</td>\n",
       "    </tr>\n",
       "    <tr>\n",
       "      <th>2022-10-10 00:00:00-04:00</th>\n",
       "      <td>0.005347</td>\n",
       "      <td>-0.020269</td>\n",
       "      <td>NaN</td>\n",
       "    </tr>\n",
       "  </tbody>\n",
       "</table>\n",
       "<p>5730 rows × 3 columns</p>\n",
       "</div>"
      ],
      "text/plain": [
       "                            appl_lr   msft_lr    ndx_lr\n",
       "Date                                                   \n",
       "2000-01-03 00:00:00-05:00       NaN       NaN       NaN\n",
       "2000-01-04 00:00:00-05:00 -0.088077 -0.034364 -0.066635\n",
       "2000-01-05 00:00:00-05:00  0.014527  0.010489 -0.011027\n",
       "2000-01-06 00:00:00-05:00 -0.090514 -0.034072 -0.048636\n",
       "2000-01-07 00:00:00-05:00  0.046281  0.012983  0.054971\n",
       "...                             ...       ...       ...\n",
       "2022-10-04 00:00:00-04:00  0.025300  0.033253  0.030934\n",
       "2022-10-05 00:00:00-04:00  0.002051  0.001285 -0.000808\n",
       "2022-10-06 00:00:00-04:00 -0.006648 -0.009718 -0.007605\n",
       "2022-10-07 00:00:00-04:00 -0.037410 -0.052191 -0.039608\n",
       "2022-10-10 00:00:00-04:00  0.005347 -0.020269       NaN\n",
       "\n",
       "[5730 rows x 3 columns]"
      ]
     },
     "execution_count": 7,
     "metadata": {},
     "output_type": "execute_result"
    }
   ],
   "source": [
    "result.columns = ['appl_lr', 'msft_lr', 'ndx_lr']\n",
    "result"
   ]
  },
  {
   "cell_type": "code",
   "execution_count": 8,
   "metadata": {},
   "outputs": [
    {
     "data": {
      "image/png": "[encoded data removed]",
      "text/plain": [
       "<Figure size 432x288 with 1 Axes>"
      ]
     },
     "metadata": {
      "needs_background": "light"
     },
     "output_type": "display_data"
    }
   ],
   "source": [
    "ax = result.plot()"
   ]
  },
  {
   "cell_type": "code",
   "execution_count": 9,
   "metadata": {},
   "outputs": [
    {
     "data": {
      "text/plain": [
       "<AxesSubplot:>"
      ]
     },
     "execution_count": 9,
     "metadata": {},
     "output_type": "execute_result"
    },
    {
     "data": {
      "image/png": "[encoded data removed]",
      "text/plain": [
       "<Figure size 432x288 with 1 Axes>"
      ]
     },
     "metadata": {
      "needs_background": "light"
     },
     "output_type": "display_data"
    }
   ],
   "source": [
    "result['ndx_lr'].hist()"
   ]
  },
  {
   "cell_type": "code",
   "execution_count": 10,
   "metadata": {},
   "outputs": [
    {
     "data": {
      "text/plain": [
       "<AxesSubplot:>"
      ]
     },
     "execution_count": 10,
     "metadata": {},
     "output_type": "execute_result"
    },
    {
     "data": {
      "image/png": "[encoded data removed]",
      "text/plain": [
       "<Figure size 432x288 with 1 Axes>"
      ]
     },
     "metadata": {
      "needs_background": "light"
     },
     "output_type": "display_data"
    }
   ],
   "source": [
    "result['appl_lr'].hist(bins=10)"
   ]
  },
  {
   "cell_type": "code",
   "execution_count": 11,
   "metadata": {},
   "outputs": [
    {
     "data": {
      "text/plain": [
       "<AxesSubplot:>"
      ]
     },
     "execution_count": 11,
     "metadata": {},
     "output_type": "execute_result"
    },
    {
     "data": {
      "image/png": "[encoded data removed]",
      "text/plain": [
       "<Figure size 432x288 with 1 Axes>"
      ]
     },
     "metadata": {
      "needs_background": "light"
     },
     "output_type": "display_data"
    }
   ],
   "source": [
    "result['msft_lr'].hist(bins=10)"
   ]
  },
  {
   "cell_type": "code",
   "execution_count": 12,
   "metadata": {},
   "outputs": [
    {
     "name": "stdout",
     "output_type": "stream",
     "text": [
      "0.6477755681277905 0.46152455192269937 0.7470842292446883\n"
     ]
    }
   ],
   "source": [
    "corr1 = result['appl_lr'].corr(result['ndx_lr'])\n",
    "corr2 = result['appl_lr'].corr(result['msft_lr'])\n",
    "corr3 = result['msft_lr'].corr(result['ndx_lr'])\n",
    "\n",
    "print(corr1,corr2,corr3)"
   ]
  },
  {
   "cell_type": "markdown",
   "metadata": {},
   "source": [
    "Apple and Nasdaq have a strong relationship because their correlation value is near 1.\n",
    "Apple and Microsoft have a weak relationship because their correlation value is near 0.\n",
    "Microsoft and Nasdaq have a strong relationship because their correlation value is near 1.\n",
    "\n",
    "The closer to 1 the more confident we are of a positive linear correlation, so we can say that Apple & Nasdaq and Microsoft & Nasdaq have a strong relationship. However, Apple & Microsoft's correlation value is near 0 so there is no evidence of a strong relationship.\n"
   ]
  },
  {
   "cell_type": "code",
   "execution_count": 13,
   "metadata": {},
   "outputs": [],
   "source": [
    "import scipy.stats as stats"
   ]
  },
  {
   "cell_type": "code",
   "execution_count": 14,
   "metadata": {},
   "outputs": [
    {
     "data": {
      "text/plain": [
       "Ttest_indResult(statistic=1.3218666695069508, pvalue=0.18623895173278135)"
      ]
     },
     "execution_count": 14,
     "metadata": {},
     "output_type": "execute_result"
    }
   ],
   "source": [
    "stats.ttest_ind(result.dropna()['appl_lr'],result.dropna()['msft_lr'])\n"
   ]
  },
  {
   "cell_type": "markdown",
   "metadata": {},
   "source": []
  },
  {
   "cell_type": "code",
   "execution_count": 15,
   "metadata": {},
   "outputs": [
    {
     "data": {
      "text/plain": [
       "Ttest_indResult(statistic=1.6928316376724326, pvalue=0.09051471357723202)"
      ]
     },
     "execution_count": 15,
     "metadata": {},
     "output_type": "execute_result"
    }
   ],
   "source": [
    "stats.ttest_ind(result.dropna()['appl_lr'],result.dropna()['ndx_lr'])\n"
   ]
  },
  {
   "cell_type": "code",
   "execution_count": 16,
   "metadata": {},
   "outputs": [
    {
     "data": {
      "text/plain": [
       "Ttest_indResult(statistic=0.397744216599396, pvalue=0.6908261528078151)"
      ]
     },
     "execution_count": 16,
     "metadata": {},
     "output_type": "execute_result"
    }
   ],
   "source": [
    "stats.ttest_ind(result.dropna()['msft_lr'],result.dropna()['ndx_lr'])\n"
   ]
  },
  {
   "cell_type": "code",
   "execution_count": null,
   "metadata": {},
   "outputs": [],
   "source": []
  }
 ],
 "metadata": {
  "kernelspec": {
   "display_name": "Python 3",
   "language": "python",
   "name": "python3"
  },
  "language_info": {
   "codemirror_mode": {
    "name": "ipython",
    "version": 3
   },
   "file_extension": ".py",
   "mimetype": "text/x-python",
   "name": "python",
   "nbconvert_exporter": "python",
   "pygments_lexer": "ipython3",
   "version": "3.8.3"
  }
 },
 "nbformat": 4,
 "nbformat_minor": 4
}
